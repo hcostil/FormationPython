{
 "cells": [
  {
   "cell_type": "markdown",
   "metadata": {},
   "source": [
    "# 📘 Notebook : Manipulation des principales bibliothèques Python\n",
    "\n",
    "## 🎯 Objectifs :\n",
    "- Comprendre l’utilisation de Pandas, Matplotlib et Seaborn\n",
    "- Manipuler des données et les visualiser\n",
    "- Explorer le dataset Iris avec Pandas"
   ]
  },
  {
   "cell_type": "code",
   "metadata": {
    "ExecuteTime": {
     "end_time": "2025-03-09T14:21:04.109572Z",
     "start_time": "2025-03-09T14:21:02.899824Z"
    }
   },
   "source": [
    "# Installation des bibliothèques (si nécessaire)\n",
    "!pip install pandas matplotlib seaborn"
   ],
   "outputs": [
    {
     "name": "stdout",
     "output_type": "stream",
     "text": [
      "Requirement already satisfied: pandas in c:\\users\\herve\\pycharmprojects\\ivorytower\\.venv\\lib\\site-packages (2.0.3)\n",
      "Requirement already satisfied: matplotlib in c:\\users\\herve\\pycharmprojects\\ivorytower\\.venv\\lib\\site-packages (3.7.5)\n",
      "Requirement already satisfied: seaborn in c:\\users\\herve\\pycharmprojects\\ivorytower\\.venv\\lib\\site-packages (0.13.2)\n",
      "Requirement already satisfied: python-dateutil>=2.8.2 in c:\\users\\herve\\pycharmprojects\\ivorytower\\.venv\\lib\\site-packages (from pandas) (2.9.0.post0)\n",
      "Requirement already satisfied: pytz>=2020.1 in c:\\users\\herve\\pycharmprojects\\ivorytower\\.venv\\lib\\site-packages (from pandas) (2025.1)\n",
      "Requirement already satisfied: tzdata>=2022.1 in c:\\users\\herve\\pycharmprojects\\ivorytower\\.venv\\lib\\site-packages (from pandas) (2025.1)\n",
      "Requirement already satisfied: numpy>=1.20.3 in c:\\users\\herve\\pycharmprojects\\ivorytower\\.venv\\lib\\site-packages (from pandas) (1.24.4)\n",
      "Requirement already satisfied: contourpy>=1.0.1 in c:\\users\\herve\\pycharmprojects\\ivorytower\\.venv\\lib\\site-packages (from matplotlib) (1.1.1)\n",
      "Requirement already satisfied: cycler>=0.10 in c:\\users\\herve\\pycharmprojects\\ivorytower\\.venv\\lib\\site-packages (from matplotlib) (0.12.1)\n",
      "Requirement already satisfied: fonttools>=4.22.0 in c:\\users\\herve\\pycharmprojects\\ivorytower\\.venv\\lib\\site-packages (from matplotlib) (4.56.0)\n",
      "Requirement already satisfied: kiwisolver>=1.0.1 in c:\\users\\herve\\pycharmprojects\\ivorytower\\.venv\\lib\\site-packages (from matplotlib) (1.4.7)\n",
      "Requirement already satisfied: packaging>=20.0 in c:\\users\\herve\\pycharmprojects\\ivorytower\\.venv\\lib\\site-packages (from matplotlib) (24.2)\n",
      "Requirement already satisfied: pillow>=6.2.0 in c:\\users\\herve\\pycharmprojects\\ivorytower\\.venv\\lib\\site-packages (from matplotlib) (10.4.0)\n",
      "Requirement already satisfied: pyparsing>=2.3.1 in c:\\users\\herve\\pycharmprojects\\ivorytower\\.venv\\lib\\site-packages (from matplotlib) (3.1.4)\n",
      "Requirement already satisfied: importlib-resources>=3.2.0 in c:\\users\\herve\\pycharmprojects\\ivorytower\\.venv\\lib\\site-packages (from matplotlib) (6.4.5)\n",
      "Requirement already satisfied: zipp>=3.1.0 in c:\\users\\herve\\pycharmprojects\\ivorytower\\.venv\\lib\\site-packages (from importlib-resources>=3.2.0->matplotlib) (3.20.2)\n",
      "Requirement already satisfied: six>=1.5 in c:\\users\\herve\\pycharmprojects\\ivorytower\\.venv\\lib\\site-packages (from python-dateutil>=2.8.2->pandas) (1.17.0)\n"
     ]
    }
   ],
   "execution_count": 3
  },
  {
   "cell_type": "code",
   "metadata": {
    "ExecuteTime": {
     "end_time": "2025-03-09T14:21:37.966509Z",
     "start_time": "2025-03-09T14:21:37.935261Z"
    }
   },
   "source": [
    "# Importation des bibliothèques\n",
    "import pandas as pd\n",
    "import matplotlib.pyplot as plt\n",
    "import seaborn as sns"
   ],
   "outputs": [],
   "execution_count": 5
  },
  {
   "cell_type": "markdown",
   "metadata": {},
   "source": [
    "## 📝 Exercice 1 : Chargement et exploration du dataset Iris"
   ]
  },
  {
   "cell_type": "code",
   "metadata": {
    "ExecuteTime": {
     "end_time": "2025-03-09T14:22:37.835771Z",
     "start_time": "2025-03-09T14:22:37.161598Z"
    }
   },
   "source": [
    "# 1. Charger le dataset Iris à l'aide de Seaborn\n",
    "df = sns.load_dataset(\"iris\")"
   ],
   "outputs": [],
   "execution_count": 6
  },
  {
   "cell_type": "code",
   "metadata": {
    "ExecuteTime": {
     "end_time": "2025-03-09T14:23:35.059705Z",
     "start_time": "2025-03-09T14:23:35.024410Z"
    }
   },
   "source": [
    "# 2. Afficher les 5 premières lignes du dataset\n",
    "# (Complétez le code ci-dessous)\n",
    "display( _______________ )"
   ],
   "outputs": [
    {
     "data": {
      "text/plain": [
       "<bound method NDFrame.head of      sepal_length  sepal_width  petal_length  petal_width    species\n",
       "0             5.1          3.5           1.4          0.2     setosa\n",
       "1             4.9          3.0           1.4          0.2     setosa\n",
       "2             4.7          3.2           1.3          0.2     setosa\n",
       "3             4.6          3.1           1.5          0.2     setosa\n",
       "4             5.0          3.6           1.4          0.2     setosa\n",
       "..            ...          ...           ...          ...        ...\n",
       "145           6.7          3.0           5.2          2.3  virginica\n",
       "146           6.3          2.5           5.0          1.9  virginica\n",
       "147           6.5          3.0           5.2          2.0  virginica\n",
       "148           6.2          3.4           5.4          2.3  virginica\n",
       "149           5.9          3.0           5.1          1.8  virginica\n",
       "\n",
       "[150 rows x 5 columns]>"
      ]
     },
     "metadata": {},
     "output_type": "display_data"
    }
   ],
   "execution_count": 8
  },
  {
   "cell_type": "code",
   "metadata": {
    "ExecuteTime": {
     "end_time": "2025-03-09T14:24:06.930010Z",
     "start_time": "2025-03-09T14:24:06.812706Z"
    }
   },
   "source": [
    "# 3. Afficher des informations générales sur le dataset\n",
    "# (Complétez le code ci-dessous)\n",
    "df.____________()"
   ],
   "outputs": [
    {
     "name": "stdout",
     "output_type": "stream",
     "text": [
      "<class 'pandas.core.frame.DataFrame'>\n",
      "RangeIndex: 150 entries, 0 to 149\n",
      "Data columns (total 5 columns):\n",
      " #   Column        Non-Null Count  Dtype  \n",
      "---  ------        --------------  -----  \n",
      " 0   sepal_length  150 non-null    float64\n",
      " 1   sepal_width   150 non-null    float64\n",
      " 2   petal_length  150 non-null    float64\n",
      " 3   petal_width   150 non-null    float64\n",
      " 4   species       150 non-null    object \n",
      "dtypes: float64(4), object(1)\n",
      "memory usage: 6.0+ KB\n"
     ]
    }
   ],
   "execution_count": 10
  },
  {
   "cell_type": "code",
   "metadata": {
    "ExecuteTime": {
     "end_time": "2025-03-09T14:24:17.607202Z",
     "start_time": "2025-03-09T14:24:17.571764Z"
    }
   },
   "source": [
    "# 4. Quelles sont les dimensions du dataset ?\n",
    "# (Complétez le code ci-dessous)\n",
    "df.____________"
   ],
   "outputs": [
    {
     "data": {
      "text/plain": [
       "(150, 5)"
      ]
     },
     "execution_count": 11,
     "metadata": {},
     "output_type": "execute_result"
    }
   ],
   "execution_count": 11
  },
  {
   "cell_type": "markdown",
   "metadata": {},
   "source": [
    "## 🔍 Exercice 2 : Manipulation de données avec Pandas"
   ]
  },
  {
   "cell_type": "code",
   "metadata": {
    "ExecuteTime": {
     "end_time": "2025-03-09T14:30:35.298206Z",
     "start_time": "2025-03-09T14:30:35.282580Z"
    }
   },
   "source": [
    "# 1. Ajouter une colonne \"rapport longueur/largeur pétale\"\n",
    "df[\"petal_ratio\"] = ______________\n",
    "display(df)"
   ],
   "outputs": [],
   "execution_count": 12
  },
  {
   "cell_type": "code",
   "metadata": {
    "ExecuteTime": {
     "end_time": "2025-03-09T14:30:47.130448Z",
     "start_time": "2025-03-09T14:30:47.088625Z"
    }
   },
   "source": [
    "# 2. Filtrer les fleurs dont la longueur du pétale est supérieure à 4 cm\n",
    "df_filtre = df[df[\"petal_length\"] _______ ]\n",
    "display(df_filtre)"
   ],
   "outputs": [
    {
     "data": {
      "text/plain": [
       "     sepal_length  sepal_width  petal_length  petal_width     species  \\\n",
       "50            7.0          3.2           4.7          1.4  versicolor   \n",
       "51            6.4          3.2           4.5          1.5  versicolor   \n",
       "52            6.9          3.1           4.9          1.5  versicolor   \n",
       "54            6.5          2.8           4.6          1.5  versicolor   \n",
       "55            5.7          2.8           4.5          1.3  versicolor   \n",
       "..            ...          ...           ...          ...         ...   \n",
       "145           6.7          3.0           5.2          2.3   virginica   \n",
       "146           6.3          2.5           5.0          1.9   virginica   \n",
       "147           6.5          3.0           5.2          2.0   virginica   \n",
       "148           6.2          3.4           5.4          2.3   virginica   \n",
       "149           5.9          3.0           5.1          1.8   virginica   \n",
       "\n",
       "     petal_ratio  \n",
       "50      3.357143  \n",
       "51      3.000000  \n",
       "52      3.266667  \n",
       "54      3.066667  \n",
       "55      3.461538  \n",
       "..           ...  \n",
       "145     2.260870  \n",
       "146     2.631579  \n",
       "147     2.600000  \n",
       "148     2.347826  \n",
       "149     2.833333  \n",
       "\n",
       "[84 rows x 6 columns]"
      ],
      "text/html": [
       "<div>\n",
       "<style scoped>\n",
       "    .dataframe tbody tr th:only-of-type {\n",
       "        vertical-align: middle;\n",
       "    }\n",
       "\n",
       "    .dataframe tbody tr th {\n",
       "        vertical-align: top;\n",
       "    }\n",
       "\n",
       "    .dataframe thead th {\n",
       "        text-align: right;\n",
       "    }\n",
       "</style>\n",
       "<table border=\"1\" class=\"dataframe\">\n",
       "  <thead>\n",
       "    <tr style=\"text-align: right;\">\n",
       "      <th></th>\n",
       "      <th>sepal_length</th>\n",
       "      <th>sepal_width</th>\n",
       "      <th>petal_length</th>\n",
       "      <th>petal_width</th>\n",
       "      <th>species</th>\n",
       "      <th>petal_ratio</th>\n",
       "    </tr>\n",
       "  </thead>\n",
       "  <tbody>\n",
       "    <tr>\n",
       "      <th>50</th>\n",
       "      <td>7.0</td>\n",
       "      <td>3.2</td>\n",
       "      <td>4.7</td>\n",
       "      <td>1.4</td>\n",
       "      <td>versicolor</td>\n",
       "      <td>3.357143</td>\n",
       "    </tr>\n",
       "    <tr>\n",
       "      <th>51</th>\n",
       "      <td>6.4</td>\n",
       "      <td>3.2</td>\n",
       "      <td>4.5</td>\n",
       "      <td>1.5</td>\n",
       "      <td>versicolor</td>\n",
       "      <td>3.000000</td>\n",
       "    </tr>\n",
       "    <tr>\n",
       "      <th>52</th>\n",
       "      <td>6.9</td>\n",
       "      <td>3.1</td>\n",
       "      <td>4.9</td>\n",
       "      <td>1.5</td>\n",
       "      <td>versicolor</td>\n",
       "      <td>3.266667</td>\n",
       "    </tr>\n",
       "    <tr>\n",
       "      <th>54</th>\n",
       "      <td>6.5</td>\n",
       "      <td>2.8</td>\n",
       "      <td>4.6</td>\n",
       "      <td>1.5</td>\n",
       "      <td>versicolor</td>\n",
       "      <td>3.066667</td>\n",
       "    </tr>\n",
       "    <tr>\n",
       "      <th>55</th>\n",
       "      <td>5.7</td>\n",
       "      <td>2.8</td>\n",
       "      <td>4.5</td>\n",
       "      <td>1.3</td>\n",
       "      <td>versicolor</td>\n",
       "      <td>3.461538</td>\n",
       "    </tr>\n",
       "    <tr>\n",
       "      <th>...</th>\n",
       "      <td>...</td>\n",
       "      <td>...</td>\n",
       "      <td>...</td>\n",
       "      <td>...</td>\n",
       "      <td>...</td>\n",
       "      <td>...</td>\n",
       "    </tr>\n",
       "    <tr>\n",
       "      <th>145</th>\n",
       "      <td>6.7</td>\n",
       "      <td>3.0</td>\n",
       "      <td>5.2</td>\n",
       "      <td>2.3</td>\n",
       "      <td>virginica</td>\n",
       "      <td>2.260870</td>\n",
       "    </tr>\n",
       "    <tr>\n",
       "      <th>146</th>\n",
       "      <td>6.3</td>\n",
       "      <td>2.5</td>\n",
       "      <td>5.0</td>\n",
       "      <td>1.9</td>\n",
       "      <td>virginica</td>\n",
       "      <td>2.631579</td>\n",
       "    </tr>\n",
       "    <tr>\n",
       "      <th>147</th>\n",
       "      <td>6.5</td>\n",
       "      <td>3.0</td>\n",
       "      <td>5.2</td>\n",
       "      <td>2.0</td>\n",
       "      <td>virginica</td>\n",
       "      <td>2.600000</td>\n",
       "    </tr>\n",
       "    <tr>\n",
       "      <th>148</th>\n",
       "      <td>6.2</td>\n",
       "      <td>3.4</td>\n",
       "      <td>5.4</td>\n",
       "      <td>2.3</td>\n",
       "      <td>virginica</td>\n",
       "      <td>2.347826</td>\n",
       "    </tr>\n",
       "    <tr>\n",
       "      <th>149</th>\n",
       "      <td>5.9</td>\n",
       "      <td>3.0</td>\n",
       "      <td>5.1</td>\n",
       "      <td>1.8</td>\n",
       "      <td>virginica</td>\n",
       "      <td>2.833333</td>\n",
       "    </tr>\n",
       "  </tbody>\n",
       "</table>\n",
       "<p>84 rows × 6 columns</p>\n",
       "</div>"
      ]
     },
     "metadata": {},
     "output_type": "display_data"
    }
   ],
   "execution_count": 13
  },
  {
   "cell_type": "markdown",
   "metadata": {},
   "source": [
    "## 📊 Exercice 3 : Visualisation avec Matplotlib et Seaborn"
   ]
  },
  {
   "cell_type": "code",
   "metadata": {
    "ExecuteTime": {
     "end_time": "2025-03-09T14:32:42.017654Z",
     "start_time": "2025-03-09T14:32:41.629530Z"
    }
   },
   "source": [
    "# 1. Créer un histogramme de la longueur des pétales\n",
    "plt.hist(df[\"________\"], bins=20, color='skyblue', edgecolor='black')\n",
    "plt.xlabel(\"Longueur du pétale\")\n",
    "plt.ylabel(\"Fréquence\")\n",
    "plt.title(\"Distribution de la longueur des pétales\")\n",
    "plt.show()"
   ],
   "outputs": [
    {
     "data": {
      "text/plain": [
       "<Figure size 640x480 with 1 Axes>"
      ],
      "image/png": "[encoded data removed]"
     },
     "metadata": {},
     "output_type": "display_data"
    }
   ],
   "execution_count": 14
  },
  {
   "cell_type": "code",
   "metadata": {
    "ExecuteTime": {
     "end_time": "2025-03-09T14:34:56.100703Z",
     "start_time": "2025-03-09T14:34:55.793552Z"
    }
   },
   "source": [
    "# 2. Créer un graphique en boîte pour comparer la longueur des pétales entre espèces\n",
    "sns.boxplot(x=\"________\", y=\"________\", data=df, palette=\"viridis\")\n",
    "plt.title(\"Distribution de la longueur du pétale par espèce\")\n",
    "plt.show()"
   ],
   "outputs": [
    {
     "data": {
      "text/plain": [
       "<Figure size 640x480 with 1 Axes>"
      ],
      "image/png": "[encoded data removed]"
     },
     "metadata": {},
     "output_type": "display_data"
    }
   ],
   "execution_count": 17
  },
  {
   "cell_type": "markdown",
   "metadata": {},
   "source": [
    "## ✅ Solutions des exercices"
   ]
  },
  {
   "cell_type": "markdown",
   "metadata": {},
   "source": [
    "### 🔍 Exercice 1 : Exploration du dataset Iris\n",
    "- `df.head()` affiche les premières lignes du dataset.\n",
    "- `df.info()` donne des informations générales sur les types de colonnes et les valeurs manquantes.\n",
    "- `df.shape` retourne les dimensions du dataset (nombre de lignes, nombre de colonnes).\n",
    "\n",
    "### 📊 Exercice 2 : Manipulation des données\n",
    "- `df[\"petal_ratio\"] = df[\"petal_length\"] / df[\"petal_width\"]` ajoute une colonne calculée.\n",
    "- `df[df[\"petal_length\"] > 4]` filtre les lignes selon la condition.\n",
    "- `df.groupby(\"species\").mean()` calcule la moyenne de chaque colonne par espèce.\n",
    "\n",
    "### 📉 Exercice 3 : Visualisation\n",
    "- `plt.hist(df[\"petal_length\"], bins=20, color='skyblue', edgecolor='black')` crée un histogramme des longueurs de pétales.\n",
    "- `sns.boxplot(x=\"species\", y=\"petal_length\", data=df, palette=\"viridis\")` compare les longueurs de pétales entre espèces."
   ]
  }
 ],
 "metadata": {
  "kernelspec": {
   "display_name": "Python 3",
   "language": "python",
   "name": "python3"
  }
 },
 "nbformat": 4,
 "nbformat_minor": 4
}
