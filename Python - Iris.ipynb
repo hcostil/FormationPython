{
 "cells": [
  {
   "cell_type": "markdown",
   "metadata": {},
   "source": [
    "# 📘 Notebook : Manipulation des principales bibliothèques Python\n",
    "\n",
    "## 🎯 Objectifs :\n",
    "- Comprendre l’utilisation de Pandas, Matplotlib et Seaborn\n",
    "- Manipuler des données et les visualiser\n",
    "- Explorer le dataset Iris avec Pandas"
   ]
  },
  {
   "cell_type": "code",
   "metadata": {},
   "source": [
    "# Installation des bibliothèques (si nécessaire)\n",
    "!pip install pandas matplotlib seaborn"
   ],
   "outputs": [],
   "execution_count": null
  },
  {
   "cell_type": "code",
   "metadata": {},
   "source": [
    "# Importation des bibliothèques\n",
    "import pandas as pd\n",
    "import matplotlib.pyplot as plt\n",
    "import seaborn as sns"
   ],
   "outputs": [],
   "execution_count": null
  },
  {
   "cell_type": "markdown",
   "metadata": {},
   "source": [
    "## 📝 Exercice 1 : Chargement et exploration du dataset Iris"
   ]
  },
  {
   "cell_type": "code",
   "metadata": {},
   "source": [
    "# 1. Charger le dataset Iris à l'aide de Seaborn\n",
    "df = sns.load_dataset(\"iris\")"
   ],
   "outputs": [],
   "execution_count": null
  },
  {
   "cell_type": "code",
   "metadata": {},
   "source": [
    "# 2. Afficher les 5 premières lignes du dataset\n",
    "# (Complétez le code ci-dessous)\n",
    "display( _______________ )"
   ],
   "outputs": [],
   "execution_count": null
  },
  {
   "cell_type": "code",
   "metadata": {},
   "source": [
    "# 3. Afficher des informations générales sur le dataset\n",
    "# (Complétez le code ci-dessous)\n",
    "df.____________()"
   ],
   "outputs": [],
   "execution_count": null
  },
  {
   "cell_type": "code",
   "metadata": {},
   "source": [
    "# 4. Quelles sont les dimensions du dataset ?\n",
    "# (Complétez le code ci-dessous)\n",
    "df.____________"
   ],
   "outputs": [],
   "execution_count": null
  },
  {
   "cell_type": "markdown",
   "metadata": {},
   "source": [
    "## 🔍 Exercice 2 : Manipulation de données avec Pandas"
   ]
  },
  {
   "cell_type": "code",
   "metadata": {},
   "source": [
    "# 1. Ajouter une colonne \"rapport longueur/largeur pétale\"\n",
    "df[\"petal_ratio\"] = ______________\n",
    "display(df)"
   ],
   "outputs": [],
   "execution_count": null
  },
  {
   "cell_type": "code",
   "metadata": {},
   "source": [
    "# 2. Filtrer les fleurs dont la longueur du pétale est supérieure à 4 cm\n",
    "df_filtre = df[df[\"petal_length\"] _______ ]\n",
    "display(df_filtre)"
   ],
   "outputs": [],
   "execution_count": null
  },
  {
   "cell_type": "markdown",
   "metadata": {},
   "source": [
    "## 📊 Exercice 3 : Visualisation avec Matplotlib et Seaborn"
   ]
  },
  {
   "cell_type": "code",
   "metadata": {},
   "source": [
    "# 1. Créer un histogramme de la longueur des pétales\n",
    "plt.hist(df[\"________\"], bins=20, color='skyblue', edgecolor='black')\n",
    "plt.xlabel(\"Longueur du pétale\")\n",
    "plt.ylabel(\"Fréquence\")\n",
    "plt.title(\"Distribution de la longueur des pétales\")\n",
    "plt.show()"
   ],
   "outputs": [],
   "execution_count": null
  },
  {
   "cell_type": "code",
   "metadata": {},
   "source": [
    "# 2. Créer un graphique en boîte pour comparer la longueur des pétales entre espèces\n",
    "sns.boxplot(x=\"________\", y=\"________\", data=df, palette=\"viridis\")\n",
    "plt.title(\"Distribution de la longueur du pétale par espèce\")\n",
    "plt.show()"
   ],
   "outputs": [],
   "execution_count": null
  },
  {
   "cell_type": "markdown",
   "metadata": {},
   "source": [
    "## ✅ Solutions des exercices"
   ]
  },
  {
   "cell_type": "markdown",
   "metadata": {},
   "source": [
    "### 🔍 Exercice 1 : Exploration du dataset Iris\n",
    "- `df.head()` affiche les premières lignes du dataset.\n",
    "- `df.info()` donne des informations générales sur les types de colonnes et les valeurs manquantes.\n",
    "- `df.shape` retourne les dimensions du dataset (nombre de lignes, nombre de colonnes).\n",
    "\n",
    "### 📊 Exercice 2 : Manipulation des données\n",
    "- `df[\"petal_ratio\"] = df[\"petal_length\"] / df[\"petal_width\"]` ajoute une colonne calculée.\n",
    "- `df[df[\"petal_length\"] > 4]` filtre les lignes selon la condition.\n",
    "- `df.groupby(\"species\").mean()` calcule la moyenne de chaque colonne par espèce.\n",
    "\n",
    "### 📉 Exercice 3 : Visualisation\n",
    "- `plt.hist(df[\"petal_length\"], bins=20, color='skyblue', edgecolor='black')` crée un histogramme des longueurs de pétales.\n",
    "- `sns.boxplot(x=\"species\", y=\"petal_length\", data=df, palette=\"viridis\")` compare les longueurs de pétales entre espèces."
   ]
  }
 ],
 "metadata": {
  "kernelspec": {
   "display_name": "Python 3",
   "language": "python",
   "name": "python3"
  }
 },
 "nbformat": 4,
 "nbformat_minor": 4
}
