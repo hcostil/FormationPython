{
 "cells": [
  {
   "cell_type": "markdown",
   "metadata": {},
   "source": [
    "# Exercice : Analyse des données du Titanic avec Pandas\n",
    "## Objectif\n",
    "L'objectif de cet exercice est d'explorer et d'analyser les données des passagers du Titanic en utilisant la bibliothèque **Pandas**.\n",
    "Nous allons manipuler un **DataFrame**, effectuer des transformations et analyser les tendances des données.\n",
    "\n",
    "## Étapes\n",
    "1. Charger les données du Titanic.\n",
    "2. Analyser la structure des données.\n",
    "3. Réaliser des statistiques descriptives.\n",
    "4. Filtrer et manipuler certaines colonnes.\n",
    "5. Répondre à des questions basées sur les données.\n"
   ]
  },
  {
   "cell_type": "code",
   "metadata": {
    "ExecuteTime": {
     "end_time": "2025-03-15T16:15:55.365198Z",
     "start_time": "2025-03-15T16:15:54.009471Z"
    }
   },
   "source": [
    "# Importation des bibliothèques nécessaires\n",
    "import pandas as pd\n",
    "\n",
    "# Chargement des données (fichier Titanic en Pandas)\n",
    "df = pd.___('titanic.csv')  # Modifier avec le bon chemin si nécessaire\n",
    "\n",
    "# Affichage des premières lignes du dataset\n",
    "df.head()"
   ],
   "outputs": [
    {
     "ename": "AttributeError",
     "evalue": "module 'pandas' has no attribute '___'",
     "output_type": "error",
     "traceback": [
      "\u001B[1;31m---------------------------------------------------------------------------\u001B[0m",
      "\u001B[1;31mAttributeError\u001B[0m                            Traceback (most recent call last)",
      "Cell \u001B[1;32mIn[1], line 5\u001B[0m\n\u001B[0;32m      2\u001B[0m \u001B[38;5;28;01mimport\u001B[39;00m\u001B[38;5;250m \u001B[39m\u001B[38;5;21;01mpandas\u001B[39;00m\u001B[38;5;250m \u001B[39m\u001B[38;5;28;01mas\u001B[39;00m\u001B[38;5;250m \u001B[39m\u001B[38;5;21;01mpd\u001B[39;00m\n\u001B[0;32m      4\u001B[0m \u001B[38;5;66;03m# Chargement des données (fichier Titanic en Pandas)\u001B[39;00m\n\u001B[1;32m----> 5\u001B[0m df \u001B[38;5;241m=\u001B[39m \u001B[43mpd\u001B[49m\u001B[38;5;241;43m.\u001B[39;49m\u001B[43m___\u001B[49m(\u001B[38;5;124m'\u001B[39m\u001B[38;5;124mtitanic.csv\u001B[39m\u001B[38;5;124m'\u001B[39m)  \u001B[38;5;66;03m# Modifier avec le bon chemin si nécessaire\u001B[39;00m\n\u001B[0;32m      7\u001B[0m \u001B[38;5;66;03m# Affichage des premières lignes du dataset\u001B[39;00m\n\u001B[0;32m      8\u001B[0m df\u001B[38;5;241m.\u001B[39mhead()\n",
      "\u001B[1;31mAttributeError\u001B[0m: module 'pandas' has no attribute '___'"
     ]
    }
   ],
   "execution_count": 1
  },
  {
   "cell_type": "markdown",
   "metadata": {},
   "source": [
    "## 1. Analyse des données\n",
    "Affichons quelques statistiques sur le dataset."
   ]
  },
  {
   "cell_type": "code",
   "execution_count": null,
   "metadata": {},
   "outputs": [],
   "source": [
    "# Affichage des informations générales sur le DataFrame\n",
    "df.info()\n",
    "\n",
    "# Affichage des statistiques descriptives\n",
    "df.describe()"
   ]
  },
  {
   "cell_type": "markdown",
   "metadata": {},
   "source": [
    "## 2. Nettoyage des données\n",
    "- Vérifions s'il y a des valeurs manquantes\n",
    "- Remplaçons les valeurs manquantes dans la colonne `Age` par la médiane."
   ]
  },
  {
   "cell_type": "code",
   "execution_count": null,
   "metadata": {},
   "outputs": [],
   "source": [
    "# Vérification des valeurs manquantes\n",
    "df.___().sum()\n",
    "\n",
    "# Remplacement des âges manquants par la médiane\n",
    "df['Age'].___(df['Age'].median(), inplace=True)"
   ]
  },
  {
   "cell_type": "markdown",
   "metadata": {},
   "source": [
    "## 3. Analyse des passagers\n",
    "- Quel est le nombre total de passagers ?\n",
    "- Combien de passagers ont survécu ?\n",
    "- Quel est le pourcentage de survivants par sexe ?"
   ]
  },
  {
   "cell_type": "code",
   "execution_count": null,
   "metadata": {},
   "outputs": [],
   "source": [
    "# Nombre total de passagers\n",
    "total_passagers = ___(df)\n",
    "print(f'Nombre total de passagers : {total_passagers}')\n",
    "\n",
    "# Nombre de survivants\n",
    "total_survivants = df[___].___()\n",
    "print(f'Nombre de survivants : {total_survivants}')\n",
    "\n",
    "# Pourcentage de survivants par sexe\n",
    "df.groupby('Sex')[___].___() * 100"
   ]
  },
  {
   "cell_type": "markdown",
   "metadata": {},
   "source": [
    "## 4. Analyse des classes\n",
    "- Quel est le taux de survie par classe ?\n",
    "- Y a-t-il une différence de survie entre les différentes classes de passagers ?"
   ]
  },
  {
   "cell_type": "code",
   "execution_count": null,
   "metadata": {},
   "outputs": [],
   "source": [
    "# Taux de survie par classe\n",
    "df.___('Pclass')['Survived'].___() * 100"
   ]
  },
  {
   "cell_type": "markdown",
   "metadata": {},
   "source": [
    "## 5. Exploration des âges\n",
    "- Quelle est la répartition des âges des passagers ?\n",
    "- Les enfants (moins de 18 ans) ont-ils eu un meilleur taux de survie ?"
   ]
  },
  {
   "cell_type": "code",
   "execution_count": null,
   "metadata": {},
   "outputs": [],
   "source": [
    "# Distribution des âges\n",
    "df['Age'].___(bins=20)"
   ]
  },
  {
   "cell_type": "code",
   "execution_count": null,
   "metadata": {},
   "outputs": [],
   "source": [
    "# Comparaison du taux de survie entre enfants et adultes\n",
    "df['IsChild'] = df['Age'] < 18\n",
    "df.___('IsChild')['Survived'].___() * 100"
   ]
  },
  {
   "cell_type": "markdown",
   "metadata": {},
   "source": [
    "### Fin de l'exercice 🎯\n",
    "Nous avons effectué une première analyse des données du Titanic avec Pandas !\n",
    "\n",
    "**Questions de réflexion :**\n",
    "- Quels autres facteurs pourraient influencer la survie ?\n",
    "- Comment pourrait-on aller plus loin dans l'analyse ?"
   ]
  }
 ],
 "metadata": {
  "kernelspec": {
   "display_name": "Python 3",
   "language": "python",
   "name": "python3"
  },
  "language_info": {
   "codemirror_mode": {
    "name": "ipython",
    "version": 3
   },
   "file_extension": ".py",
   "mimetype": "text/x-python",
   "name": "python",
   "nbconvert_exporter": "python",
   "pygments_lexer": "ipython3",
   "version": "3.8.5"
  }
 },
 "nbformat": 4,
 "nbformat_minor": 4
}
