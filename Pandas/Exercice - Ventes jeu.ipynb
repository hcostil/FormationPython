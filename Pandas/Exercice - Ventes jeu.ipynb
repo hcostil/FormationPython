{
 "cells": [
  {
   "cell_type": "code",
   "id": "b5f9b0e4",
   "metadata": {},
   "source": [
    "\n",
    "import pandas as pd\n",
    "import matplotlib.pyplot as plt\n",
    "\n",
    "# Chargement des données (simulées ici, remplace \"data.csv\" par ton fichier réel)\n",
    "data = {\n",
    "    \"Nom\": [\"Game A\", \"Game B\", \"Game C\", \"Game D\", \"Game E\"],\n",
    "    \"Genre\": [\"Action\", \"RPG\", \"Action\", \"Sport\", \"RPG\"],\n",
    "    \"Plateforme\": [\"PS5\", \"PC\", \"Xbox\", \"PS5\", \"PC\"],\n",
    "    \"Ventes_Globales\": [2.5, 1.8, 3.2, 0.9, 2.0],\n",
    "    \"Note\": [8.5, 9.2, 7.8, 6.5, 9.0],\n",
    "    \"Année\": [2022, 2021, 2022, 2023, 2021]\n",
    "}\n",
    "\n",
    "df = pd.DataFrame(data)\n",
    "\n",
    "# Affichage des premières lignes\n",
    "___(df)\n"
   ],
   "outputs": [],
   "execution_count": null
  },
  {
   "cell_type": "code",
   "id": "faa19204",
   "metadata": {},
   "source": [
    "\n",
    "# Nettoyage des données : Suppression des valeurs manquantes\n",
    "df.___(inplace=True)\n",
    "\n",
    "# Vérification des types\n",
    "display(df.___)\n"
   ],
   "outputs": [],
   "execution_count": null
  },
  {
   "cell_type": "code",
   "id": "32f1b469",
   "metadata": {},
   "source": [
    "\n",
    "# Calcul des ventes moyennes par genre\n",
    "ventes_par_genre = df.___(\"Genre\")[\"Ventes_Globales\"].mean()\n",
    "display(ventes_par_genre)\n"
   ],
   "outputs": [],
   "execution_count": null
  },
  {
   "cell_type": "code",
   "id": "5fe25311",
   "metadata": {},
   "source": [
    "\n",
    "# Trouver le jeu le mieux noté par année\n",
    "best_games = df.loc[df.groupby(___)[___].idxmax()]\n",
    "display(best_games)\n"
   ],
   "outputs": [],
   "execution_count": null
  },
  {
   "cell_type": "code",
   "id": "6d0f2827",
   "metadata": {},
   "source": [
    "\n",
    "# Détection des anomalies (ventes très élevées ou très faibles)\n",
    "q1 = df[___].quantile(0.25)\n",
    "q3 = df[\"Ventes_Globales\"].___(0.75)\n",
    "iqr = q3 - q1\n",
    "anomalies = df[(df[\"Ventes_Globales\"] < (q1 - 1.5 * iqr)) | (df[\"Ventes_Globales\"] > (q3 + 1.5 * iqr))]\n",
    "___(anomalies)\n"
   ],
   "outputs": [],
   "execution_count": null
  },
  {
   "cell_type": "code",
   "id": "c5d187e7",
   "metadata": {},
   "source": [
    "\n",
    "# Visualisation des tendances\n",
    "plt.figure(figsize=(8,5))\n",
    "df.___(\"Année\")[\"Ventes_Globales\"].sum().plot(kind='bar', title='Ventes globales par année')\n",
    "plt.xlabel(\"Année\")\n",
    "plt.ylabel(\"Ventes Globales (millions)\")\n",
    "plt.show()\n",
    "\n",
    "plt.figure(figsize=(8,5))\n",
    "df.___(\"Plateforme\")[\"Ventes_Globales\"].sum().plot(kind='bar', title='Ventes par plateforme')\n",
    "plt.xlabel(\"Plateforme\")\n",
    "plt.ylabel(\"Ventes Globales (millions)\")\n",
    "plt.show()\n"
   ],
   "outputs": [],
   "execution_count": null
  }
 ],
 "metadata": {
  "kernelspec": {
   "name": "python3",
   "language": "python",
   "display_name": "Python 3 (ipykernel)"
  }
 },
 "nbformat": 4,
 "nbformat_minor": 5
}
