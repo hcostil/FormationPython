{
 "cells": [
  {
   "cell_type": "code",
   "id": "b5f9b0e4",
   "metadata": {
    "ExecuteTime": {
     "end_time": "2025-03-15T16:15:54.050474Z",
     "start_time": "2025-03-15T16:15:54.009471Z"
    }
   },
   "source": [
    "\n",
    "import pandas as pd\n",
    "import matplotlib.pyplot as plt\n",
    "\n",
    "# Chargement des données (simulées ici, remplace \"data.csv\" par ton fichier réel)\n",
    "data = {\n",
    "    \"Nom\": [\"Game A\", \"Game B\", \"Game C\", \"Game D\", \"Game E\"],\n",
    "    \"Genre\": [\"Action\", \"RPG\", \"Action\", \"Sport\", \"RPG\"],\n",
    "    \"Plateforme\": [\"PS5\", \"PC\", \"Xbox\", \"PS5\", \"PC\"],\n",
    "    \"Ventes_Globales\": [2.5, 1.8, 3.2, 0.9, 2.0],\n",
    "    \"Note\": [8.5, 9.2, 7.8, 6.5, 9.0],\n",
    "    \"Année\": [2022, 2021, 2022, 2023, 2021]\n",
    "}\n",
    "\n",
    "df = pd.DataFrame(data)\n",
    "\n",
    "# Affichage des premières lignes\n",
    "display(df)\n"
   ],
   "outputs": [
    {
     "data": {
      "text/plain": [
       "      Nom   Genre Plateforme  Ventes_Globales  Note  Année\n",
       "0  Game A  Action        PS5              2.5   8.5   2022\n",
       "1  Game B     RPG         PC              1.8   9.2   2021\n",
       "2  Game C  Action       Xbox              3.2   7.8   2022\n",
       "3  Game D   Sport        PS5              0.9   6.5   2023\n",
       "4  Game E     RPG         PC              2.0   9.0   2021"
      ],
      "text/html": [
       "<div>\n",
       "<style scoped>\n",
       "    .dataframe tbody tr th:only-of-type {\n",
       "        vertical-align: middle;\n",
       "    }\n",
       "\n",
       "    .dataframe tbody tr th {\n",
       "        vertical-align: top;\n",
       "    }\n",
       "\n",
       "    .dataframe thead th {\n",
       "        text-align: right;\n",
       "    }\n",
       "</style>\n",
       "<table border=\"1\" class=\"dataframe\">\n",
       "  <thead>\n",
       "    <tr style=\"text-align: right;\">\n",
       "      <th></th>\n",
       "      <th>Nom</th>\n",
       "      <th>Genre</th>\n",
       "      <th>Plateforme</th>\n",
       "      <th>Ventes_Globales</th>\n",
       "      <th>Note</th>\n",
       "      <th>Année</th>\n",
       "    </tr>\n",
       "  </thead>\n",
       "  <tbody>\n",
       "    <tr>\n",
       "      <th>0</th>\n",
       "      <td>Game A</td>\n",
       "      <td>Action</td>\n",
       "      <td>PS5</td>\n",
       "      <td>2.5</td>\n",
       "      <td>8.5</td>\n",
       "      <td>2022</td>\n",
       "    </tr>\n",
       "    <tr>\n",
       "      <th>1</th>\n",
       "      <td>Game B</td>\n",
       "      <td>RPG</td>\n",
       "      <td>PC</td>\n",
       "      <td>1.8</td>\n",
       "      <td>9.2</td>\n",
       "      <td>2021</td>\n",
       "    </tr>\n",
       "    <tr>\n",
       "      <th>2</th>\n",
       "      <td>Game C</td>\n",
       "      <td>Action</td>\n",
       "      <td>Xbox</td>\n",
       "      <td>3.2</td>\n",
       "      <td>7.8</td>\n",
       "      <td>2022</td>\n",
       "    </tr>\n",
       "    <tr>\n",
       "      <th>3</th>\n",
       "      <td>Game D</td>\n",
       "      <td>Sport</td>\n",
       "      <td>PS5</td>\n",
       "      <td>0.9</td>\n",
       "      <td>6.5</td>\n",
       "      <td>2023</td>\n",
       "    </tr>\n",
       "    <tr>\n",
       "      <th>4</th>\n",
       "      <td>Game E</td>\n",
       "      <td>RPG</td>\n",
       "      <td>PC</td>\n",
       "      <td>2.0</td>\n",
       "      <td>9.0</td>\n",
       "      <td>2021</td>\n",
       "    </tr>\n",
       "  </tbody>\n",
       "</table>\n",
       "</div>"
      ]
     },
     "metadata": {},
     "output_type": "display_data"
    }
   ],
   "execution_count": 1
  },
  {
   "cell_type": "code",
   "id": "faa19204",
   "metadata": {
    "ExecuteTime": {
     "end_time": "2025-03-15T16:15:55.723337Z",
     "start_time": "2025-03-15T16:15:54.198025Z"
    }
   },
   "source": [
    "\n",
    "# Nettoyage des données : Suppression des valeurs manquantes\n",
    "df.dropna(inplace=True)\n",
    "\n",
    "# Vérification des types\n",
    "display(df.dtypes)\n"
   ],
   "outputs": [
    {
     "data": {
      "text/plain": [
       "Nom                 object\n",
       "Genre               object\n",
       "Plateforme          object\n",
       "Ventes_Globales    float64\n",
       "Note               float64\n",
       "Année                int64\n",
       "dtype: object"
      ]
     },
     "metadata": {},
     "output_type": "display_data"
    }
   ],
   "execution_count": 2
  },
  {
   "cell_type": "code",
   "id": "32f1b469",
   "metadata": {
    "ExecuteTime": {
     "end_time": "2025-03-15T16:15:56.473338Z",
     "start_time": "2025-03-15T16:15:56.407419Z"
    }
   },
   "source": [
    "\n",
    "# Calcul des ventes moyennes par genre\n",
    "ventes_par_genre = df.groupby(\"Genre\")[\"Ventes_Globales\"].mean()\n",
    "display(ventes_par_genre)\n"
   ],
   "outputs": [
    {
     "data": {
      "text/plain": [
       "Genre\n",
       "Action    2.85\n",
       "RPG       1.90\n",
       "Sport     0.90\n",
       "Name: Ventes_Globales, dtype: float64"
      ]
     },
     "metadata": {},
     "output_type": "display_data"
    }
   ],
   "execution_count": 3
  },
  {
   "cell_type": "code",
   "id": "5fe25311",
   "metadata": {
    "ExecuteTime": {
     "end_time": "2025-03-15T16:15:57.296676Z",
     "start_time": "2025-03-15T16:15:56.510983Z"
    }
   },
   "source": [
    "\n",
    "# Trouver le jeu le mieux noté par année\n",
    "best_games = df.loc[df.groupby(\"Année\")[\"Note\"].idxmax()]\n",
    "display(best_games)\n"
   ],
   "outputs": [
    {
     "data": {
      "text/plain": [
       "      Nom   Genre Plateforme  Ventes_Globales  Note  Année\n",
       "1  Game B     RPG         PC              1.8   9.2   2021\n",
       "0  Game A  Action        PS5              2.5   8.5   2022\n",
       "3  Game D   Sport        PS5              0.9   6.5   2023"
      ],
      "text/html": [
       "<div>\n",
       "<style scoped>\n",
       "    .dataframe tbody tr th:only-of-type {\n",
       "        vertical-align: middle;\n",
       "    }\n",
       "\n",
       "    .dataframe tbody tr th {\n",
       "        vertical-align: top;\n",
       "    }\n",
       "\n",
       "    .dataframe thead th {\n",
       "        text-align: right;\n",
       "    }\n",
       "</style>\n",
       "<table border=\"1\" class=\"dataframe\">\n",
       "  <thead>\n",
       "    <tr style=\"text-align: right;\">\n",
       "      <th></th>\n",
       "      <th>Nom</th>\n",
       "      <th>Genre</th>\n",
       "      <th>Plateforme</th>\n",
       "      <th>Ventes_Globales</th>\n",
       "      <th>Note</th>\n",
       "      <th>Année</th>\n",
       "    </tr>\n",
       "  </thead>\n",
       "  <tbody>\n",
       "    <tr>\n",
       "      <th>1</th>\n",
       "      <td>Game B</td>\n",
       "      <td>RPG</td>\n",
       "      <td>PC</td>\n",
       "      <td>1.8</td>\n",
       "      <td>9.2</td>\n",
       "      <td>2021</td>\n",
       "    </tr>\n",
       "    <tr>\n",
       "      <th>0</th>\n",
       "      <td>Game A</td>\n",
       "      <td>Action</td>\n",
       "      <td>PS5</td>\n",
       "      <td>2.5</td>\n",
       "      <td>8.5</td>\n",
       "      <td>2022</td>\n",
       "    </tr>\n",
       "    <tr>\n",
       "      <th>3</th>\n",
       "      <td>Game D</td>\n",
       "      <td>Sport</td>\n",
       "      <td>PS5</td>\n",
       "      <td>0.9</td>\n",
       "      <td>6.5</td>\n",
       "      <td>2023</td>\n",
       "    </tr>\n",
       "  </tbody>\n",
       "</table>\n",
       "</div>"
      ]
     },
     "metadata": {},
     "output_type": "display_data"
    }
   ],
   "execution_count": 4
  },
  {
   "cell_type": "code",
   "id": "6d0f2827",
   "metadata": {
    "ExecuteTime": {
     "end_time": "2025-03-15T16:15:57.924786Z",
     "start_time": "2025-03-15T16:15:57.884250Z"
    }
   },
   "source": [
    "\n",
    "# Détection des anomalies (ventes très élevées ou très faibles)\n",
    "q1 = df[\"Ventes_Globales\"].quantile(0.25)\n",
    "q3 = df[\"Ventes_Globales\"].quantile(0.75)\n",
    "iqr = q3 - q1\n",
    "anomalies = df[(df[\"Ventes_Globales\"] < (q1 - 1.5 * iqr)) | (df[\"Ventes_Globales\"] > (q3 + 1.5 * iqr))]\n",
    "display(anomalies)\n"
   ],
   "outputs": [
    {
     "data": {
      "text/plain": [
       "Empty DataFrame\n",
       "Columns: [Nom, Genre, Plateforme, Ventes_Globales, Note, Année]\n",
       "Index: []"
      ],
      "text/html": [
       "<div>\n",
       "<style scoped>\n",
       "    .dataframe tbody tr th:only-of-type {\n",
       "        vertical-align: middle;\n",
       "    }\n",
       "\n",
       "    .dataframe tbody tr th {\n",
       "        vertical-align: top;\n",
       "    }\n",
       "\n",
       "    .dataframe thead th {\n",
       "        text-align: right;\n",
       "    }\n",
       "</style>\n",
       "<table border=\"1\" class=\"dataframe\">\n",
       "  <thead>\n",
       "    <tr style=\"text-align: right;\">\n",
       "      <th></th>\n",
       "      <th>Nom</th>\n",
       "      <th>Genre</th>\n",
       "      <th>Plateforme</th>\n",
       "      <th>Ventes_Globales</th>\n",
       "      <th>Note</th>\n",
       "      <th>Année</th>\n",
       "    </tr>\n",
       "  </thead>\n",
       "  <tbody>\n",
       "  </tbody>\n",
       "</table>\n",
       "</div>"
      ]
     },
     "metadata": {},
     "output_type": "display_data"
    }
   ],
   "execution_count": 5
  },
  {
   "cell_type": "code",
   "id": "c5d187e7",
   "metadata": {
    "ExecuteTime": {
     "end_time": "2025-03-15T16:15:59.113067Z",
     "start_time": "2025-03-15T16:15:58.170862Z"
    }
   },
   "source": [
    "\n",
    "# Visualisation des tendances\n",
    "plt.figure(figsize=(8,5))\n",
    "df.groupby(\"Année\")[\"Ventes_Globales\"].sum().plot(kind='bar', title='Ventes globales par année')\n",
    "plt.xlabel(\"Année\")\n",
    "plt.ylabel(\"Ventes Globales (millions)\")\n",
    "plt.show()\n",
    "\n",
    "plt.figure(figsize=(8,5))\n",
    "df.groupby(\"Plateforme\")[\"Ventes_Globales\"].sum().plot(kind='bar', title='Ventes par plateforme')\n",
    "plt.xlabel(\"Plateforme\")\n",
    "plt.ylabel(\"Ventes Globales (millions)\")\n",
    "plt.show()\n"
   ],
   "outputs": [
    {
     "data": {
      "text/plain": [
       "<Figure size 800x500 with 1 Axes>"
      ],
      "image/png": "[encoded data removed]"
     },
     "metadata": {},
     "output_type": "display_data"
    },
    {
     "data": {
      "text/plain": [
       "<Figure size 800x500 with 1 Axes>"
      ],
      "image/png": "[encoded data removed]"
     },
     "metadata": {},
     "output_type": "display_data"
    }
   ],
   "execution_count": 6
  }
 ],
 "metadata": {
  "kernelspec": {
   "name": "python3",
   "language": "python",
   "display_name": "Python 3 (ipykernel)"
  }
 },
 "nbformat": 4,
 "nbformat_minor": 5
}
