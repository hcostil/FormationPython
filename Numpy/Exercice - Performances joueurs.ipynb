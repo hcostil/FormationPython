{
 "cells": [
  {
   "cell_type": "markdown",
   "id": "bea215a4",
   "metadata": {},
   "source": [
    "## Analyse des Performances des Joueurs avec NumPy\n",
    "Cet exercice consiste à manipuler des tableaux NumPy pour analyser les performances des joueurs d'un jeu vidéo."
   ]
  },
  {
   "cell_type": "code",
   "id": "559a7554",
   "metadata": {},
   "source": [
    "import numpy as np\n",
    "\n",
    "# Génération de données fictives : scores de 100 joueurs sur 5 niveaux\n",
    "data = np.random.randint(0, 101, (100, 5))  # Scores entre 0 et 100"
   ],
   "outputs": [],
   "execution_count": null
  },
  {
   "cell_type": "markdown",
   "id": "7257d027",
   "metadata": {},
   "source": [
    "### 1. Calcul de la moyenne des scores de chaque joueur"
   ]
  },
  {
   "cell_type": "code",
   "id": "e27cde59",
   "metadata": {},
   "source": [
    "player_averages = np.___(data, axis=1)\n",
    "print(\"Moyenne des scores par joueur:\", player_averages)"
   ],
   "outputs": [],
   "execution_count": null
  },
  {
   "cell_type": "markdown",
   "id": "df7655d7",
   "metadata": {},
   "source": [
    "### 2. Score maximum et minimum par niveau"
   ]
  },
  {
   "cell_type": "code",
   "id": "f317aeca",
   "metadata": {},
   "source": [
    "max_scores_per_level = np.___(data, axis=0)\n",
    "min_scores_per_level = np.___(data, axis=0)\n",
    "print(\"Max scores par niveau:\", max_scores_per_level)\n",
    "print(\"Min scores par niveau:\", min_scores_per_level)"
   ],
   "outputs": [],
   "execution_count": null
  },
  {
   "cell_type": "markdown",
   "id": "8abb8140",
   "metadata": {},
   "source": [
    "### 3. Déterminer le meilleur joueur en score total"
   ]
  },
  {
   "cell_type": "code",
   "id": "463bcd68",
   "metadata": {},
   "source": [
    "total_scores = np.___(data, axis=1)\n",
    "best_player = np.___(total_scores)\n",
    "print(\"Le meilleur joueur est le numéro:\", best_player)"
   ],
   "outputs": [],
   "execution_count": null
  },
  {
   "cell_type": "markdown",
   "id": "c8e80cdf",
   "metadata": {},
   "source": [
    "### 4. Normalisation des scores entre 0 et 1"
   ]
  },
  {
   "cell_type": "code",
   "id": "34b6890e",
   "metadata": {},
   "source": [
    "norm_data = (data - np.___(data)) / (np.___(data) - np.___(data))\n",
    "print(\"Scores normalisés:\", norm_data)"
   ],
   "outputs": [],
   "execution_count": null
  },
  {
   "cell_type": "markdown",
   "id": "249ac342",
   "metadata": {},
   "source": [
    "### 5. Filtrer les joueurs ayant un score moyen supérieur à 70"
   ]
  },
  {
   "cell_type": "code",
   "id": "b17840ce",
   "metadata": {},
   "source": [
    "high_performers = data[np.___(data, axis=1) ___]\n",
    "print(\"Joueurs avec une moyenne > 70:\", high_performers)"
   ],
   "outputs": [],
   "execution_count": null
  },
  {
   "cell_type": "markdown",
   "id": "d4c84e65",
   "metadata": {},
   "source": [
    "### 6. Ajouter un handicap de -5 points aux joueurs ayant un score max > 90"
   ]
  },
  {
   "cell_type": "code",
   "id": "20d602e6",
   "metadata": {},
   "source": [
    "data[data > 90] -= 5\n",
    "print(\"Scores après handicap:\", data)"
   ],
   "outputs": [],
   "execution_count": null
  },
  {
   "cell_type": "markdown",
   "id": "c273098c",
   "metadata": {},
   "source": [
    "### 7. Restructurer le tableau en ajoutant une colonne d'identifiant des joueurs"
   ]
  },
  {
   "cell_type": "code",
   "id": "142d1059",
   "metadata": {},
   "source": [
    "player_ids = np.___(1, 101).___(100, 1)\n",
    "data_with_ids = np.hstack((player_ids, data))\n",
    "print(\"Données avec ID joueurs:\", data_with_ids)"
   ],
   "outputs": [],
   "execution_count": null
  },
  {
   "cell_type": "markdown",
   "id": "885588cf",
   "metadata": {},
   "source": [
    "### 8. Sauvegarde des données dans un fichier CSV"
   ]
  },
  {
   "cell_type": "code",
   "id": "b328a368",
   "metadata": {},
   "source": [
    "np.___(\"../player_scores.csv\", data_with_ids, delimiter=\",\", header=\"ID,Niveau1,Niveau2,Niveau3,Niveau4,Niveau5\", comments='')\n",
    "print(\"Données sauvegardées dans player_scores.csv\")"
   ],
   "outputs": [],
   "execution_count": null
  }
 ],
 "metadata": {
  "kernelspec": {
   "name": "python3",
   "language": "python",
   "display_name": "Python 3 (ipykernel)"
  }
 },
 "nbformat": 4,
 "nbformat_minor": 5
}
