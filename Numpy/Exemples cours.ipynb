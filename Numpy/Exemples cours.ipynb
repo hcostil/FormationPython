{
 "cells": [
  {
   "cell_type": "markdown",
   "id": "7bc53f49",
   "metadata": {},
   "source": [
    "# Introduction à NumPy\n",
    "\n",
    "NumPy est une bibliothèque pour le calcul scientifique en Python. Elle permet de manipuler des tableaux multidimensionnels et offre des fonctions mathématiques optimisées."
   ]
  },
  {
   "cell_type": "code",
   "id": "823f913a",
   "metadata": {
    "ExecuteTime": {
     "end_time": "2025-03-15T14:16:17.378445Z",
     "start_time": "2025-03-15T14:16:17.356508Z"
    }
   },
   "source": [
    "import numpy as np\n",
    "\n",
    "# Création d'un tableau NumPy simple\n",
    "array1 = np.array([1, 2, 3, 4, 5])\n",
    "print(\"Tableau NumPy :\", array1)"
   ],
   "outputs": [
    {
     "name": "stdout",
     "output_type": "stream",
     "text": [
      "Tableau NumPy : [1 2 3 4 5]\n"
     ]
    }
   ],
   "execution_count": 1
  },
  {
   "cell_type": "code",
   "id": "36bf6a9e",
   "metadata": {
    "ExecuteTime": {
     "end_time": "2025-03-15T14:16:18.157362Z",
     "start_time": "2025-03-15T14:16:17.729586Z"
    }
   },
   "source": [
    "# Création d'une matrice NumPy\n",
    "matrice1 = np.array([[1, 2, 3], [4, 5, 6]])\n",
    "print(\"\\nMatrice NumPy :\\n\", matrice1)"
   ],
   "outputs": [
    {
     "name": "stdout",
     "output_type": "stream",
     "text": [
      "\n",
      "Matrice NumPy :\n",
      " [[1 2 3]\n",
      " [4 5 6]]\n"
     ]
    }
   ],
   "execution_count": 2
  },
  {
   "cell_type": "code",
   "id": "26a3d014",
   "metadata": {
    "ExecuteTime": {
     "end_time": "2025-03-15T14:16:19.167154Z",
     "start_time": "2025-03-15T14:16:18.170413Z"
    }
   },
   "source": [
    "# Création d'un tableau de zéros\n",
    "zeros = np.zeros((3, 3))  # Matrice de zéros 3x3\n",
    "print(\"\\nMatrice de zéros :\\n\", zeros)"
   ],
   "outputs": [
    {
     "name": "stdout",
     "output_type": "stream",
     "text": [
      "\n",
      "Matrice de zéros :\n",
      " [[0. 0. 0.]\n",
      " [0. 0. 0.]\n",
      " [0. 0. 0.]]\n"
     ]
    }
   ],
   "execution_count": 3
  },
  {
   "cell_type": "code",
   "id": "9087fd72",
   "metadata": {
    "ExecuteTime": {
     "end_time": "2025-03-15T14:16:20.499197Z",
     "start_time": "2025-03-15T14:16:19.190400Z"
    }
   },
   "source": [
    "# Création d'un tableau de uns\n",
    "uns = np.ones((2, 2))  # Matrice de uns 2x2\n",
    "print(\"\\nMatrice de uns :\\n\", uns)"
   ],
   "outputs": [
    {
     "name": "stdout",
     "output_type": "stream",
     "text": [
      "\n",
      "Matrice de uns :\n",
      " [[1. 1.]\n",
      " [1. 1.]]\n"
     ]
    }
   ],
   "execution_count": 4
  },
  {
   "cell_type": "code",
   "id": "f343e63e",
   "metadata": {
    "ExecuteTime": {
     "end_time": "2025-03-15T14:16:21.122884Z",
     "start_time": "2025-03-15T14:16:20.532261Z"
    }
   },
   "source": [
    "# Création d'un tableau de valeurs aléatoires\n",
    "aleatoire = np.random.rand(3, 3)  # Matrice 3x3 de valeurs aléatoires entre 0 et 1\n",
    "print(\"\\nMatrice aléatoire :\\n\", aleatoire)"
   ],
   "outputs": [
    {
     "name": "stdout",
     "output_type": "stream",
     "text": [
      "\n",
      "Matrice aléatoire :\n",
      " [[0.90421987 0.00302726 0.32304495]\n",
      " [0.08443704 0.95228194 0.35329768]\n",
      " [0.28548586 0.40813912 0.57152835]]\n"
     ]
    }
   ],
   "execution_count": 5
  },
  {
   "cell_type": "code",
   "id": "e7518325",
   "metadata": {
    "ExecuteTime": {
     "end_time": "2025-03-15T14:16:21.640464Z",
     "start_time": "2025-03-15T14:16:21.154955Z"
    }
   },
   "source": [
    "# Opérations de base sur les tableaux NumPy\n",
    "array2 = np.array([10, 20, 30, 40, 50])\n",
    "print(\"\\nSomme des deux tableaux :\", array1 + array2)\n",
    "print(\"Produit des deux tableaux :\", array1 * array2)"
   ],
   "outputs": [
    {
     "name": "stdout",
     "output_type": "stream",
     "text": [
      "\n",
      "Somme des deux tableaux : [11 22 33 44 55]\n",
      "Produit des deux tableaux : [ 10  40  90 160 250]\n"
     ]
    }
   ],
   "execution_count": 6
  },
  {
   "cell_type": "code",
   "id": "b6d04657",
   "metadata": {
    "ExecuteTime": {
     "end_time": "2025-03-15T14:16:22.378619Z",
     "start_time": "2025-03-15T14:16:21.660910Z"
    }
   },
   "source": [
    "# Calculs statistiques\n",
    "print(\"\\nMoyenne du tableau :\", np.mean(array1))\n",
    "print(\"Somme du tableau :\", np.sum(array1))\n",
    "print(\"Écart-type du tableau :\", np.std(array1))"
   ],
   "outputs": [
    {
     "name": "stdout",
     "output_type": "stream",
     "text": [
      "\n",
      "Moyenne du tableau : 3.0\n",
      "Somme du tableau : 15\n",
      "Écart-type du tableau : 1.4142135623730951\n"
     ]
    }
   ],
   "execution_count": 7
  },
  {
   "cell_type": "code",
   "id": "8db49f27",
   "metadata": {
    "ExecuteTime": {
     "end_time": "2025-03-15T14:16:22.977316Z",
     "start_time": "2025-03-15T14:16:22.412749Z"
    }
   },
   "source": [
    "# Opérations sur les matrices\n",
    "matrice2 = np.array([[7, 8, 9], [10, 11, 12]])\n",
    "print(\"\\nAddition de matrices :\\n\", matrice1 + matrice2)\n",
    "print(\"Multiplication élément par élément :\\n\", matrice1 * matrice2)"
   ],
   "outputs": [
    {
     "name": "stdout",
     "output_type": "stream",
     "text": [
      "\n",
      "Addition de matrices :\n",
      " [[ 8 10 12]\n",
      " [14 16 18]]\n",
      "Multiplication élément par élément :\n",
      " [[ 7 16 27]\n",
      " [40 55 72]]\n"
     ]
    }
   ],
   "execution_count": 8
  },
  {
   "cell_type": "code",
   "id": "f1e756e2",
   "metadata": {
    "ExecuteTime": {
     "end_time": "2025-03-15T14:16:23.231739Z",
     "start_time": "2025-03-15T14:16:22.996509Z"
    }
   },
   "source": [
    "# Produit matriciel\n",
    "produit_matriciel = np.dot(matrice1, matrice2.T)  # Produit matriciel avec la transposée\n",
    "print(\"\\nProduit matriciel :\\n\", produit_matriciel)"
   ],
   "outputs": [
    {
     "name": "stdout",
     "output_type": "stream",
     "text": [
      "\n",
      "Produit matriciel :\n",
      " [[ 50  68]\n",
      " [122 167]]\n"
     ]
    }
   ],
   "execution_count": 9
  },
  {
   "cell_type": "code",
   "id": "09da2d05",
   "metadata": {
    "ExecuteTime": {
     "end_time": "2025-03-15T14:16:23.281281Z",
     "start_time": "2025-03-15T14:16:23.253482Z"
    }
   },
   "source": [
    "# Extraction de sous-matrices\n",
    "print(\"\\nSous-matrice (première ligne) :\", matrice1[0, :])\n",
    "print(\"Sous-matrice (première colonne) :\", matrice1[:, 0])"
   ],
   "outputs": [
    {
     "name": "stdout",
     "output_type": "stream",
     "text": [
      "\n",
      "Sous-matrice (première ligne) : [1 2 3]\n",
      "Sous-matrice (première colonne) : [1 4]\n"
     ]
    }
   ],
   "execution_count": 10
  },
  {
   "cell_type": "code",
   "id": "b57251f3",
   "metadata": {
    "ExecuteTime": {
     "end_time": "2025-03-15T14:16:23.343371Z",
     "start_time": "2025-03-15T14:16:23.317046Z"
    }
   },
   "source": [
    "# Reshape et Transposition\n",
    "matrice3 = np.arange(1, 10).reshape((3, 3))\n",
    "print(\"\\nMatrice reshape :\\n\", matrice3)\n",
    "print(\"\\nTransposée de la matrice :\\n\", matrice3.T)"
   ],
   "outputs": [
    {
     "name": "stdout",
     "output_type": "stream",
     "text": [
      "\n",
      "Matrice reshape :\n",
      " [[1 2 3]\n",
      " [4 5 6]\n",
      " [7 8 9]]\n",
      "\n",
      "Transposée de la matrice :\n",
      " [[1 4 7]\n",
      " [2 5 8]\n",
      " [3 6 9]]\n"
     ]
    }
   ],
   "execution_count": 11
  }
 ],
 "metadata": {
  "kernelspec": {
   "name": "python3",
   "language": "python",
   "display_name": "Python 3 (ipykernel)"
  }
 },
 "nbformat": 4,
 "nbformat_minor": 5
}
