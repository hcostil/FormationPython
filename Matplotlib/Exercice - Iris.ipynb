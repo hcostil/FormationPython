{
 "cells": [
  {
   "cell_type": "markdown",
   "metadata": {},
   "source": [
    "# Exercice : Visualisation des données Iris avec Matplotlib\n",
    "Cet exercice a pour but d'explorer les données Iris à l'aide de la bibliothèque Matplotlib.\n",
    "Nous allons créer plusieurs types de graphiques pour mieux comprendre la distribution des caractéristiques des fleurs.\n",
    "\n",
    "### Objectifs :\n",
    "- Charger et explorer l'ensemble de données Iris.\n",
    "- Générer des visualisations adaptées : histogrammes, nuages de points, diagrammes en barres et en secteurs.\n",
    "- Personnaliser les graphiques (titres, légendes, couleurs, annotations).\n"
   ]
  },
  {
   "cell_type": "code",
   "execution_count": null,
   "metadata": {},
   "outputs": [],
   "source": [
    "# Importation des bibliothèques\n",
    "import matplotlib.pyplot as plt\n",
    "import numpy as np\n",
    "from sklearn import datasets\n",
    "from matplotlib.colors import ListedColormap\n",
    "\n",
    "# Chargement des données Iris\n",
    "iris = datasets.load_iris()\n",
    "data = iris['data']\n",
    "targets = iris['target']\n",
    "features = iris['feature_names']\n",
    "target_names = iris['target_names']\n",
    "\n",
    "# Affichage des 5 premières lignes\n",
    "print(\"Aperçu des données :\")\n",
    "for i in range(5):\n",
    "    print(data[i], '->', target_names[targets[i]])"
   ]
  },
  {
   "cell_type": "markdown",
   "metadata": {},
   "source": [
    "## 1. Histogrammes\n",
    "Nous allons tracer des histogrammes pour visualiser la distribution des caractéristiques des fleurs."
   ]
  },
  {
   "cell_type": "code",
   "execution_count": null,
   "metadata": {},
   "outputs": [],
   "source": [
    "# Création d'un histogramme pour la longueur des pétales\n",
    "plt.figure(figsize=(8, 5))\n",
    "plt.___(data[:, 2], bins=20, color='skyblue', edgecolor='black', alpha=0.7)\n",
    "plt.x___(features[2])\n",
    "plt.__('Fréquence')\n",
    "plt.__('Distribution de la longueur des pétales')\n",
    "plt.show()"
   ]
  },
  {
   "cell_type": "markdown",
   "metadata": {},
   "source": [
    "## 2. Nuage de points (Scatter Plot)\n",
    "Nous allons visualiser la relation entre la longueur et la largeur des pétales en fonction des espèces."
   ]
  },
  {
   "cell_type": "code",
   "execution_count": null,
   "metadata": {},
   "outputs": [],
   "source": [
    "# Création d'un scatter plot\n",
    "cmap = ListedColormap(['red', 'green', 'blue'])\n",
    "plt.figure(figsize=(8, 5))\n",
    "scatter = plt.__(data[:, 2], data[:, 3], c=targets, cmap=cmap, alpha=0.7)\n",
    "plt.___(features[2])\n",
    "plt.___(features[3])\n",
    "plt.___('Nuage de points : Longueur vs Largeur des pétales')\n",
    "plt.___(scatter, ticks=[0, 1, 2], label='Espèces')\n",
    "plt.___()"
   ]
  },
  {
   "cell_type": "markdown",
   "metadata": {},
   "source": [
    "## 3. Diagramme en barres\n",
    "Nous allons afficher la moyenne de la longueur des sépales par espèce."
   ]
  },
  {
   "cell_type": "code",
   "execution_count": null,
   "metadata": {},
   "outputs": [],
   "source": [
    "# Calcul des moyennes de la longueur des sépales par espèce\n",
    "sepal_lengths = [np.mean(data[targets == i, 0]) for i in range(3)]\n",
    "\n",
    "# Affichage du diagramme en barres\n",
    "plt.figure(figsize=(8, 5))\n",
    "plt.___(target_names, sepal_lengths, color=['red', 'green', 'blue'])\n",
    "plt.___('Espèce')\n",
    "plt.___(features[0])\n",
    "plt.___('Moyenne de la longueur des sépales par espèce')\n",
    "plt.___()"
   ]
  },
  {
   "cell_type": "markdown",
   "metadata": {},
   "source": [
    "## 4. Diagramme en secteurs (Camembert)\n",
    "Nous allons afficher la répartition des espèces dans le dataset."
   ]
  },
  {
   "cell_type": "code",
   "execution_count": null,
   "metadata": {},
   "outputs": [],
   "source": [
    "# Comptage du nombre d'échantillons par espèce\n",
    "species_counts = [np.sum(targets == i) for i in range(3)]\n",
    "\n",
    "# Affichage du diagramme en camembert\n",
    "plt.figure(figsize=(8, 5))\n",
    "plt.___(species_counts, labels=target_names, autopct='%1.1f%%', colors=['red', 'green', 'blue'])\n",
    "plt.___('Répartition des espèces dans le dataset')\n",
    "plt.___()"
   ]
  },
  {
   "cell_type": "markdown",
   "metadata": {},
   "source": [
    "## Conclusion\n",
    "Nous avons exploré les données Iris à l'aide de plusieurs visualisations.\n",
    "Vous pouvez essayer d'ajouter d'autres visualisations comme des boîtes à moustaches ou des courbes de densité !"
   ]
  }
 ],
 "metadata": {
  "kernelspec": {
   "display_name": "Python 3",
   "language": "python",
   "name": "python3"
  },
  "language_info": {
   "codemirror_mode": {
    "name": "ipython",
    "version": 3
   },
   "file_extension": ".py",
   "mimetype": "text/x-python",
   "name": "python",
   "nbconvert_exporter": "python",
   "pygments_lexer": "ipython3",
   "version": "3.8.10"
  }
 },
 "nbformat": 4,
 "nbformat_minor": 4
}
