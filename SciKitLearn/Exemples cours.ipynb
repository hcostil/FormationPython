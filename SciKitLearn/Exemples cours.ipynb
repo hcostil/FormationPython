{
 "cells": [
  {
   "cell_type": "markdown",
   "id": "741fae3a",
   "metadata": {},
   "source": [
    "# Introduction à Scikit-Learn\n",
    "\n",
    "Scikit-Learn est une bibliothèque open-source de machine learning en Python. Elle fournit des outils simples et efficaces pour l'analyse et l'exploration de données. Elle est construite sur NumPy, SciPy et Matplotlib et est largement utilisée pour le développement de modèles d'apprentissage automatique.\n",
    "\n",
    "### Avantages de Scikit-Learn :\n",
    "- Interface simple et cohérente pour différentes méthodes de machine learning.\n",
    "- Large choix d'algorithmes de classification, régression et clustering.\n",
    "- Outils intégrés pour le prétraitement des données, la validation des modèles et l'optimisation des hyperparamètres."
   ]
  },
  {
   "cell_type": "code",
   "id": "a3052394",
   "metadata": {
    "ExecuteTime": {
     "end_time": "2025-03-15T18:04:51.129927Z",
     "start_time": "2025-03-15T18:04:27.407004Z"
    }
   },
   "source": [
    "import numpy as np\n",
    "import pandas as pd\n",
    "import matplotlib.pyplot as plt\n",
    "from sklearn.model_selection import train_test_split\n",
    "from sklearn.preprocessing import StandardScaler\n",
    "from sklearn.linear_model import LogisticRegression\n",
    "from sklearn.metrics import accuracy_score\n"
   ],
   "outputs": [],
   "execution_count": 1
  },
  {
   "cell_type": "markdown",
   "id": "30e768bb",
   "metadata": {},
   "source": [
    "## Prétraitement des données\n",
    "Scikit-Learn propose plusieurs outils pour normaliser et transformer les données :\n",
    "- `StandardScaler` : Standardisation des variables.\n",
    "- `MinMaxScaler` : Mise à l'échelle entre 0 et 1.\n",
    "- `LabelEncoder` : Transformation des variables catégorielles en valeurs numériques."
   ]
  },
  {
   "cell_type": "code",
   "id": "8ca0d0fe",
   "metadata": {
    "ExecuteTime": {
     "end_time": "2025-03-15T18:04:51.825793Z",
     "start_time": "2025-03-15T18:04:51.632830Z"
    }
   },
   "source": [
    "from sklearn.preprocessing import StandardScaler\n",
    "data = np.random.rand(10, 3)  # Génération de données aléatoires\n",
    "scaler = StandardScaler()\n",
    "data_scaled = scaler.fit_transform(data)\n",
    "print(data_scaled)"
   ],
   "outputs": [
    {
     "name": "stdout",
     "output_type": "stream",
     "text": [
      "[[ 1.102271    1.09975887  0.07947057]\n",
      " [-0.24584768 -0.58170292  0.36747138]\n",
      " [-0.13898719 -1.27167466  1.11054078]\n",
      " [ 1.82136088 -1.20979669 -1.12802909]\n",
      " [ 1.36607282  1.23023321 -1.44658005]\n",
      " [-0.73977826 -0.07262153  1.19469429]\n",
      " [-0.32211636  0.30909789  0.01001657]\n",
      " [-0.97825079  0.54451365 -1.0720508 ]\n",
      " [-1.22827243  1.29128822  1.51285843]\n",
      " [-0.63645198 -1.33909602 -0.62839208]]\n"
     ]
    }
   ],
   "execution_count": 2
  },
  {
   "cell_type": "markdown",
   "id": "21aa166f",
   "metadata": {},
   "source": [
    "## Exemple de Classification avec Scikit-Learn"
   ]
  },
  {
   "cell_type": "code",
   "id": "6085c70d",
   "metadata": {
    "ExecuteTime": {
     "end_time": "2025-03-15T18:05:06.771914Z",
     "start_time": "2025-03-15T18:04:53.596119Z"
    }
   },
   "source": [
    "from sklearn.datasets import load_iris\n",
    "from sklearn.ensemble import RandomForestClassifier\n",
    "from sklearn.metrics import accuracy_score\n",
    "\n",
    "# Chargement des données\n",
    "iris = load_iris()\n",
    "X, y = iris.data, iris.target\n",
    "\n",
    "# Séparation en ensembles d'entraînement et de test\n",
    "X_train, X_test, y_train, y_test = train_test_split(X, y, test_size=0.2, random_state=42)\n",
    "\n",
    "# Initialisation et entraînement du modèle\n",
    "model = RandomForestClassifier(n_estimators=100)\n",
    "model.fit(X_train, y_train)\n",
    "\n",
    "# Prédiction et évaluation\n",
    "y_pred = model.predict(X_test)\n",
    "print(f'Accuracy: {accuracy_score(y_test, y_pred):.2f}')"
   ],
   "outputs": [
    {
     "name": "stdout",
     "output_type": "stream",
     "text": [
      "Accuracy: 1.00\n"
     ]
    }
   ],
   "execution_count": 3
  },
  {
   "cell_type": "markdown",
   "id": "88095904",
   "metadata": {},
   "source": [
    "## Évaluation des Modèles\n",
    "L'évaluation des modèles est une étape clé en machine learning. Scikit-Learn propose plusieurs métriques :\n",
    "- `accuracy_score` : Pour la classification.\n",
    "- `mean_squared_error` : Pour la régression.\n",
    "- `confusion_matrix` : Pour analyser les erreurs de classification."
   ]
  },
  {
   "cell_type": "code",
   "id": "f3ccdf57",
   "metadata": {
    "ExecuteTime": {
     "end_time": "2025-03-15T18:05:06.967980Z",
     "start_time": "2025-03-15T18:05:06.850450Z"
    }
   },
   "source": [
    "from sklearn.metrics import confusion_matrix\n",
    "cm = confusion_matrix(y_test, y_pred)\n",
    "print(cm)"
   ],
   "outputs": [
    {
     "name": "stdout",
     "output_type": "stream",
     "text": [
      "[[10  0  0]\n",
      " [ 0  9  0]\n",
      " [ 0  0 11]]\n"
     ]
    }
   ],
   "execution_count": 4
  },
  {
   "cell_type": "markdown",
   "id": "e4217ed4",
   "metadata": {},
   "source": [
    "# Conclusion\n",
    "Scikit-Learn est une bibliothèque incontournable pour le machine learning en Python. Elle permet d'expérimenter rapidement avec différents modèles et techniques, tout en fournissant des outils avancés pour le prétraitement et l'évaluation des modèles."
   ]
  }
 ],
 "metadata": {
  "kernelspec": {
   "name": "python3",
   "language": "python",
   "display_name": "Python 3 (ipykernel)"
  }
 },
 "nbformat": 4,
 "nbformat_minor": 5
}
