{
 "cells": [
  {
   "cell_type": "markdown",
   "metadata": {},
   "source": [
    "# 🏎️ Analyse des performances des joueurs avec Plotly\n",
    "Ce notebook propose un exercice où nous allons utiliser **Plotly** pour visualiser les performances des joueurs dans une course automobile.\n",
    "\n",
    "## 📌 Objectifs\n",
    "1. Générer un jeu de données simulant les performances des joueurs.\n",
    "2. Créer des **visualisations interactives** avec Plotly :\n",
    "   - Graphique en barres comparant les performances.\n",
    "   - Scatter plot analysant la relation vitesse moyenne vs temps total.\n",
    "   - Graphique en ligne montrant l'évolution du classement.\n",
    "\n",
    "---"
   ]
  },
  {
   "cell_type": "code",
   "execution_count": null,
   "metadata": {},
   "outputs": [],
   "source": [
    "# 📦 Importation des bibliothèques\n",
    "import pandas as pd\n",
    "import numpy as np\n",
    "import plotly.express as px\n",
    "import plotly.graph_objects as go\n",
    "\n",
    "# Génération des données des performances des joueurs\n",
    "np.random.seed(42)\n",
    "joueurs = ['Alice', 'Bob', 'Charlie', 'David', 'Emma']\n",
    "nb_tours = 10\n",
    "\n",
    "# Création du DataFrame\n",
    "data = {\n",
    "    'Joueur': np.random.choice(joueurs, 50),\n",
    "    'Temps_Tour': np.random.uniform(50, 90, 50),  # Temps en secondes\n",
    "    'Vitesse_Moyenne': np.random.uniform(120, 180, 50),\n",
    "    'Position_Finale': np.random.randint(1, 6, 50)\n",
    "}\n",
    "df = pd.DataFrame(data)\n",
    "\n",
    "# Affichage des premières lignes\n",
    "df.head()"
   ]
  },
  {
   "cell_type": "markdown",
   "metadata": {},
   "source": [
    "## 📊 Visualisation des performances des joueurs"
   ]
  },
  {
   "cell_type": "code",
   "execution_count": null,
   "metadata": {},
   "outputs": [],
   "source": [
    "# 1️⃣ Graphique en barres : Moyenne des temps par joueur\n",
    "df_bar = df.___('Joueur')['Temps_Tour'].___().reset_index()\n",
    "\n",
    "fig = px.___(df_bar, x='Joueur', y='Temps_Tour',\n",
    "             title='Temps moyen par joueur',\n",
    "             labels={'Temps_Tour': 'Temps moyen (sec)'},\n",
    "             color='Joueur')\n",
    "fig.show()"
   ]
  },
  {
   "cell_type": "code",
   "execution_count": null,
   "metadata": {},
   "outputs": [],
   "source": [
    "# 2️⃣ Scatter plot : Relation entre vitesse moyenne et temps total\n",
    "fig = px.___(df, x='Vitesse_Moyenne', y='Temps_Tour',\n",
    "                 color='Joueur',\n",
    "                 title='Relation entre la vitesse moyenne et le temps au tour')\n",
    "fig.___()"
   ]
  },
  {
   "cell_type": "code",
   "execution_count": null,
   "metadata": {},
   "outputs": [],
   "source": [
    "# 3️⃣ Graphique en ligne : Evolution du classement par tour\n",
    "df_tours = pd.DataFrame({\n",
    "    'Tour': np.tile(np.arange(1, nb_tours + 1), len(joueurs)),\n",
    "    'Joueur': np.repeat(joueurs, nb_tours),\n",
    "    'Position': np.random.randint(1, 6, len(joueurs) * nb_tours)\n",
    "})\n",
    "\n",
    "fig = px.___(df_tours, x='Tour', y='Position', color='Joueur', markers=True,\n",
    "              title='Évolution du classement par tour')\n",
    "fig.update_yaxes(title_text='Position (1er à 5e)', autorange='reversed')\n",
    "fig.show()"
   ]
  },
  {
   "cell_type": "markdown",
   "metadata": {},
   "source": [
    "### 🎯 Objectif :\n",
    "- Modifier le code pour explorer d'autres relations entre les variables.\n",
    "- Ajouter d'autres types de visualisations avec Plotly.\n",
    "- Tester avec d'autres données ! 🚀"
   ]
  }
 ],
 "metadata": {
  "kernelspec": {
   "display_name": "Python 3",
   "language": "python",
   "name": "python3"
  },
  "language_info": {
   "codemirror_mode": {
    "name": "ipython",
    "version": 3
   },
   "file_extension": ".py",
   "mimetype": "text/x-python",
   "name": "python",
   "nbconvert_exporter": "python",
   "pygments_lexer": "ipython3",
   "version": "3.8.10"
  }
 },
 "nbformat": 4,
 "nbformat_minor": 4
}
